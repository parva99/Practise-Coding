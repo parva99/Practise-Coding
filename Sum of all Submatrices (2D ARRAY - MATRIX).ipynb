{
 "cells": [
  {
   "cell_type": "code",
   "execution_count": null,
   "metadata": {},
   "outputs": [],
   "source": [
    "#Question\n",
    "# Given a 2D Matrix A of dimensions N*N, we need to return sum of all possible submatrices.\n",
    "\n",
    "\n",
    "\n",
    "\n",
    "    # @param A : list of list of integers\n",
    "    # @return an integer\n",
    "    def solve(self, A):\n",
    "        m=len(A)\n",
    "        n=len(A[0])\n",
    "        sum=0\n",
    "        for i in range(0,m):\n",
    "            for j in range(0,n):\n",
    "                sum=sum +(i+1)*(j+1)*(m-i)*(n-j)*A[i][j]    \n",
    "        return sum\n"
   ]
  },
  {
   "cell_type": "code",
   "execution_count": null,
   "metadata": {},
   "outputs": [],
   "source": []
  }
 ],
 "metadata": {
  "kernelspec": {
   "display_name": "Python 3",
   "language": "python",
   "name": "python3"
  },
  "language_info": {
   "codemirror_mode": {
    "name": "ipython",
    "version": 3
   },
   "file_extension": ".py",
   "mimetype": "text/x-python",
   "name": "python",
   "nbconvert_exporter": "python",
   "pygments_lexer": "ipython3",
   "version": "3.7.3"
  }
 },
 "nbformat": 4,
 "nbformat_minor": 2
}
