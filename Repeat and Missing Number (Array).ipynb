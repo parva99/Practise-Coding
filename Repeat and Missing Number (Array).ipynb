{
 "cells": [
  {
   "cell_type": "code",
   "execution_count": null,
   "metadata": {},
   "outputs": [],
   "source": [
    "#Question\n",
    "\n",
    "# You are given a read only array of n integers from 1 to n.\n",
    "\n",
    "# Each integer appears exactly once except A which appears twice and B which is missing.\n",
    "\n",
    "# Return A and B.\n",
    "\n",
    "def repeatedNumber(self, A):\n",
    "\n",
    "        maxi=len(A)\n",
    "        le=len(A)\n",
    "        n=len(A)\n",
    "        sum_of_squares=0\n",
    "        sums=0\n",
    "        sum_of_squares_of_n=0\n",
    "        sums_of_n=0\n",
    "        for i in range(0,le):\n",
    "            sum_of_squares=sum_of_squares+(A[i]*A[i])\n",
    "            sums=sums+A[i]\n",
    "            \n",
    "        sum_of_squares_of_n=(n*(n+1)*(2*n+1))//6\n",
    "        sums_of_n=(n*(n+1))//2\n",
    "        \n",
    "        \n",
    "        m=sums_of_n-sums\n",
    "        # if(m==0):\n",
    "        #     return []\n",
    "        n=sum_of_squares_of_n-sum_of_squares\n",
    "        z=n//m\n",
    "        missing_no=int((z+m)//2)\n",
    "        repeated_no=int((z-m)//2)\n",
    "        return [repeated_no,missing_no]\n",
    "    "
   ]
  },
  {
   "cell_type": "code",
   "execution_count": null,
   "metadata": {},
   "outputs": [],
   "source": []
  }
 ],
 "metadata": {
  "kernelspec": {
   "display_name": "Python 3",
   "language": "python",
   "name": "python3"
  },
  "language_info": {
   "codemirror_mode": {
    "name": "ipython",
    "version": 3
   },
   "file_extension": ".py",
   "mimetype": "text/x-python",
   "name": "python",
   "nbconvert_exporter": "python",
   "pygments_lexer": "ipython3",
   "version": "3.7.3"
  }
 },
 "nbformat": 4,
 "nbformat_minor": 2
}
