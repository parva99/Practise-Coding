{
 "cells": [
  {
   "cell_type": "code",
   "execution_count": null,
   "metadata": {},
   "outputs": [],
   "source": [
    "#Question\n",
    "\n",
    "# You are given a n x n 2D matrix A representing an image.\n",
    "\n",
    "# Rotate the image by 90 degrees (clockwise).\n",
    "\n",
    "# You need to do this in place.\n",
    "\n",
    "    # @param A : list of list of integers\n",
    "    def solve(self, A):\n",
    "        a=len(A)\n",
    "        b=len(A[0])\n",
    "        for i in range(0,a):\n",
    "            for j in range(i,b):\n",
    "                A[i][j] , A[j][i] = A[j][i] , A[i][j]\n",
    "        \n",
    "       \n",
    "        for l in range(0,a):\n",
    "            i=0\n",
    "            j=b-1\n",
    "            while(i<=j):\n",
    "                A[l][i] , A[l][j] = A[l][j] , A[l][i]\n",
    "                i+=1\n",
    "                j-=1\n",
    "        return A\n",
    "\n"
   ]
  },
  {
   "cell_type": "code",
   "execution_count": null,
   "metadata": {},
   "outputs": [],
   "source": []
  }
 ],
 "metadata": {
  "kernelspec": {
   "display_name": "Python 3",
   "language": "python",
   "name": "python3"
  },
  "language_info": {
   "codemirror_mode": {
    "name": "ipython",
    "version": 3
   },
   "file_extension": ".py",
   "mimetype": "text/x-python",
   "name": "python",
   "nbconvert_exporter": "python",
   "pygments_lexer": "ipython3",
   "version": "3.7.3"
  }
 },
 "nbformat": 4,
 "nbformat_minor": 2
}
