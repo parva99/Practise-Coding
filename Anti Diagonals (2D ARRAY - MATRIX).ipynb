{
 "cells": [
  {
   "cell_type": "code",
   "execution_count": null,
   "metadata": {},
   "outputs": [],
   "source": [
    "#Question\n",
    "# Give a N*N square matrix, return an array of its anti-diagonals. Look at the example for more details.\n",
    "# Input:     \n",
    "\n",
    "# 1 2 3\n",
    "# 4 5 6\n",
    "# 7 8 9\n",
    "\n",
    "# Return the following :\n",
    "\n",
    "# [ \n",
    "#   [1],\n",
    "#   [2, 4],\n",
    "#   [3, 5, 7],\n",
    "#   [6, 8],\n",
    "#   [9]\n",
    "# ]\n",
    "\n",
    "    # @param A : list of list of integers\n",
    "    # @return a list of list of integers\n",
    "    def diagonal(self, A):\n",
    "        def add(arr,i,j):\n",
    "            arr2=[]\n",
    "            while(i<n and j>=0):\n",
    "                arr2.append(A[i][j])\n",
    "                i+=1\n",
    "                j-=1\n",
    "            arr.append(arr2)\n",
    "            \n",
    "        m=len(A)\n",
    "        n=len(A[0])\n",
    "        i=0\n",
    "        j=0\n",
    "        \n",
    "        l=0\n",
    "        k=0\n",
    "        c=0\n",
    "        \n",
    "        arr=[]\n",
    "        \n",
    "        for j in range(l,n):\n",
    "            x=A[i][j]\n",
    "            add(arr,i,j)    \n",
    "        l=n-1\n",
    "        for i in range(1,n):\n",
    "            x=A[i][l]\n",
    "            add(arr,i,j)    \n",
    "        return arr        \n",
    "\n",
    "            \n"
   ]
  },
  {
   "cell_type": "code",
   "execution_count": null,
   "metadata": {},
   "outputs": [],
   "source": []
  }
 ],
 "metadata": {
  "kernelspec": {
   "display_name": "Python 3",
   "language": "python",
   "name": "python3"
  },
  "language_info": {
   "codemirror_mode": {
    "name": "ipython",
    "version": 3
   },
   "file_extension": ".py",
   "mimetype": "text/x-python",
   "name": "python",
   "nbconvert_exporter": "python",
   "pygments_lexer": "ipython3",
   "version": "3.7.3"
  }
 },
 "nbformat": 4,
 "nbformat_minor": 2
}
