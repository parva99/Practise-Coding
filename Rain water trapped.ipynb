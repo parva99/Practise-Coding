{
 "cells": [
  {
   "cell_type": "code",
   "execution_count": 1,
   "metadata": {},
   "outputs": [
    {
     "ename": "TabError",
     "evalue": "inconsistent use of tabs and spaces in indentation (<ipython-input-1-df82d7c43659>, line 5)",
     "output_type": "error",
     "traceback": [
      "\u001b[1;36m  File \u001b[1;32m\"<ipython-input-1-df82d7c43659>\"\u001b[1;36m, line \u001b[1;32m5\u001b[0m\n\u001b[1;33m    n=len(A)\u001b[0m\n\u001b[1;37m            ^\u001b[0m\n\u001b[1;31mTabError\u001b[0m\u001b[1;31m:\u001b[0m inconsistent use of tabs and spaces in indentation\n"
     ]
    }
   ],
   "source": [
    "class Solution:\n",
    "\t# @param A : tuple of integers\n",
    "\t# @return an integer\n",
    "\tdef trap(self, A):\n",
    "        n=len(A)\n",
    "        Lmax=[0]*n\n",
    "        Rmax=[0]*n\n",
    "        water=0\n",
    "        \n",
    "        Lmax[0]=A[0]\n",
    "        for i in range(1,n):\n",
    "            Lmax[i]=max(Lmax[i-1],A[i])\n",
    "        \n",
    "        Rmax[n-1]=A[n-1]\n",
    "        for i in reversed(range(n-1)):\n",
    "            Rmax[i]=max(Rmax[i+1],A[i])\n",
    "        \n",
    "        for i in range(0,n):\n",
    "            water=water+(min(Lmax[i],Rmax[i])-A[i])\n",
    "        return water\n",
    "        "
   ]
  },
  {
   "cell_type": "code",
   "execution_count": null,
   "metadata": {},
   "outputs": [],
   "source": []
  }
 ],
 "metadata": {
  "kernelspec": {
   "display_name": "Python 3",
   "language": "python",
   "name": "python3"
  },
  "language_info": {
   "codemirror_mode": {
    "name": "ipython",
    "version": 3
   },
   "file_extension": ".py",
   "mimetype": "text/x-python",
   "name": "python",
   "nbconvert_exporter": "python",
   "pygments_lexer": "ipython3",
   "version": "3.7.3"
  }
 },
 "nbformat": 4,
 "nbformat_minor": 2
}
