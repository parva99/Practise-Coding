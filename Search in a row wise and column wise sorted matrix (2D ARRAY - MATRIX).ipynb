{
 "cells": [
  {
   "cell_type": "code",
   "execution_count": null,
   "metadata": {},
   "outputs": [],
   "source": [
    "#Question\n",
    "# Given a matrix of integers A of size N x M and an integer B.\n",
    "# In the given matrix every row and column is sorted in increasing order. Find and return the position of B in the matrix in the given form:\n",
    "# If A[i][j] = B then return (i * 1009 + j)\n",
    "# If B is not present return -1.\n",
    "\n",
    "\n",
    "\n",
    "    # @param A : list of list of integers\n",
    "    # @param B : integer\n",
    "    # @return an integer\n",
    "    def solve(self, A, B):\n",
    "        m=len(A)\n",
    "        n=len(A[0])\n",
    "        i=0\n",
    "        j=n-1\n",
    "        while(i<m and j>=0):\n",
    "            if(A[i][j]==B):\n",
    "                return (((i+1) * 1009) + (j+1))\n",
    "            elif(A[i][j]<B):\n",
    "                i+=1\n",
    "            elif(A[i][j]>B):\n",
    "                j-=1\n",
    "        return -1\n",
    "            \n"
   ]
  },
  {
   "cell_type": "code",
   "execution_count": null,
   "metadata": {},
   "outputs": [],
   "source": []
  }
 ],
 "metadata": {
  "kernelspec": {
   "display_name": "Python 3",
   "language": "python",
   "name": "python3"
  },
  "language_info": {
   "codemirror_mode": {
    "name": "ipython",
    "version": 3
   },
   "file_extension": ".py",
   "mimetype": "text/x-python",
   "name": "python",
   "nbconvert_exporter": "python",
   "pygments_lexer": "ipython3",
   "version": "3.7.3"
  }
 },
 "nbformat": 4,
 "nbformat_minor": 2
}
