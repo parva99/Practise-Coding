{
 "cells": [
  {
   "cell_type": "code",
   "execution_count": null,
   "metadata": {},
   "outputs": [],
   "source": [
    "#Question\n",
    "# Given a binary sorted matrix A of size N x N. Find the row with the maximum number of 1.\n",
    "\n",
    "    # @param A : list of list of integers\n",
    "    # @return an integer\n",
    "    def solve(self, A):\n",
    "        maxi=-sys.maxsize\n",
    "        ans=0\n",
    "        m=len(A)\n",
    "        n=len(A[0])\n",
    "        pf=[0]*m\n",
    "        for z in range(0,m):\n",
    "            pf[z]=[0]*n\n",
    "        pf[0][0]=A[0][0]\n",
    "        for i in range(0,m):\n",
    "            for j in range(1,n):\n",
    "                pf[i][j]=A[i][j]+pf[i][j-1]\n",
    "                if (maxi<pf[i][j]):\n",
    "                    maxi=pf[i][j]\n",
    "                    ans=i\n",
    "                    \n",
    "        return ans"
   ]
  },
  {
   "cell_type": "code",
   "execution_count": null,
   "metadata": {},
   "outputs": [],
   "source": []
  }
 ],
 "metadata": {
  "kernelspec": {
   "display_name": "Python 3",
   "language": "python",
   "name": "python3"
  },
  "language_info": {
   "codemirror_mode": {
    "name": "ipython",
    "version": 3
   },
   "file_extension": ".py",
   "mimetype": "text/x-python",
   "name": "python",
   "nbconvert_exporter": "python",
   "pygments_lexer": "ipython3",
   "version": "3.7.3"
  }
 },
 "nbformat": 4,
 "nbformat_minor": 2
}
