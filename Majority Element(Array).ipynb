{
 "cells": [
  {
   "cell_type": "code",
   "execution_count": null,
   "metadata": {},
   "outputs": [],
   "source": [
    "#Question\n",
    "\n",
    "# Given an array of size n, find the majority element. The majority element is the element that appears more than floor(n/2) times.\n",
    "\n",
    "# You may assume that the array is non-empty and the majority element always exist in the array.\n",
    "# \t@param A : tuple of integers\n",
    "# \t@return an integer\n",
    "def majorityElement(self, A):\n",
    "\n",
    "    n=len(A)\n",
    "    con=n//2\n",
    "    d={}\n",
    "    for i in A:\n",
    "        if(i in d):\n",
    "            d[i]+=1\n",
    "        else:\n",
    "            d[i]=1\n",
    "    for i in d:\n",
    "        if(d[i]>=con):\n",
    "            return i"
   ]
  },
  {
   "cell_type": "code",
   "execution_count": null,
   "metadata": {},
   "outputs": [],
   "source": []
  }
 ],
 "metadata": {
  "kernelspec": {
   "display_name": "Python 3",
   "language": "python",
   "name": "python3"
  },
  "language_info": {
   "codemirror_mode": {
    "name": "ipython",
    "version": 3
   },
   "file_extension": ".py",
   "mimetype": "text/x-python",
   "name": "python",
   "nbconvert_exporter": "python",
   "pygments_lexer": "ipython3",
   "version": "3.7.3"
  }
 },
 "nbformat": 4,
 "nbformat_minor": 2
}
