{
 "cells": [
  {
   "cell_type": "code",
   "execution_count": null,
   "metadata": {},
   "outputs": [],
   "source": [
    "#Question\n",
    "\n",
    "# Given an array of integers A, find and return whether the given array contains a non-empty subarray with a sum equal to 0.\n",
    "\n",
    "# If the given array contains a sub-array with sum zero return 1 else return 0.\n",
    "\n",
    "\n",
    "#     @param A : list of integers\n",
    "#     @return an integer\n",
    "\n",
    "def solve(self, A):\n",
    "\n",
    "\n",
    "    n=len(A)\n",
    "    sum=0\n",
    "    s=set()\n",
    "    for i in range(0,n):\n",
    "        sum=sum+A[i]\n",
    "        if (sum==0):\n",
    "            return 1\n",
    "        if sum not in s:\n",
    "            s.add(sum)\n",
    "        else:\n",
    "            return 1\n",
    "    return 0\n",
    "        \n",
    "        \n",
    "\n"
   ]
  },
  {
   "cell_type": "code",
   "execution_count": null,
   "metadata": {},
   "outputs": [],
   "source": []
  }
 ],
 "metadata": {
  "kernelspec": {
   "display_name": "Python 3",
   "language": "python",
   "name": "python3"
  },
  "language_info": {
   "codemirror_mode": {
    "name": "ipython",
    "version": 3
   },
   "file_extension": ".py",
   "mimetype": "text/x-python",
   "name": "python",
   "nbconvert_exporter": "python",
   "pygments_lexer": "ipython3",
   "version": "3.7.3"
  }
 },
 "nbformat": 4,
 "nbformat_minor": 2
}
