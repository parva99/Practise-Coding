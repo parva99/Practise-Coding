{
 "cells": [
  {
   "cell_type": "code",
   "execution_count": null,
   "metadata": {},
   "outputs": [],
   "source": [
    "#Question\n",
    "# Given an integer array A of size N.\n",
    "\n",
    "# You can pick B elements from either left or right end of the array A to get maximum sum.\n",
    "\n",
    "# Find and return this maximum possible sum.\n",
    "\n",
    "class Solution:\n",
    "    # @param A : list of integers\n",
    "    # @param B : integer\n",
    "    # @return an integer\n",
    "    def solve(self, A, B):\n",
    "        n=len(A)\n",
    "        pf=[0]*n\n",
    "        sf=[0]*n\n",
    "        pf[0]=A[0]\n",
    "        sf[n-1]=A[n-1]\n",
    "        maxi1=0\n",
    "        maxi2=-sys.maxsize\n",
    "        maxi3=0\n",
    "        for i in range(1,n):\n",
    "            pf[i]=pf[i-1]+A[i]\n",
    "    #     print(pf)\n",
    "        for i in (range(n-1,0,-1)):\n",
    "    #         print(i)\n",
    "            sf[i-1]=sf[i]+A[i-1]\n",
    "    #     print(sf)\n",
    "        maxi1=max(pf[B-1],sf[n-B])\n",
    "    #     print(maxi1)\n",
    "        for i in range(1,B):\n",
    "            maxi2=max(maxi2,pf[i-1]+sf[n-(B-i)])\n",
    "    #     print(maxi2)\n",
    "        maxi3=max(maxi1,maxi2)\n",
    "    #     print(maxi3)\n",
    "        return maxi3"
   ]
  },
  {
   "cell_type": "code",
   "execution_count": null,
   "metadata": {},
   "outputs": [],
   "source": []
  }
 ],
 "metadata": {
  "kernelspec": {
   "display_name": "Python 3",
   "language": "python",
   "name": "python3"
  },
  "language_info": {
   "codemirror_mode": {
    "name": "ipython",
    "version": 3
   },
   "file_extension": ".py",
   "mimetype": "text/x-python",
   "name": "python",
   "nbconvert_exporter": "python",
   "pygments_lexer": "ipython3",
   "version": "3.7.3"
  }
 },
 "nbformat": 4,
 "nbformat_minor": 2
}
