{
 "cells": [
  {
   "cell_type": "code",
   "execution_count": null,
   "metadata": {},
   "outputs": [],
   "source": [
    "#Question\n",
    "# Add One To Number\n",
    "\n",
    "# Given a non-negative number represented as an array of digits, add 1 to the number ( increment the number represented by the digits ).\n",
    "\n",
    "# The digits are stored such that the most significant digit is at the head of the list.\n",
    "\n",
    "class Solution:\n",
    "    # @param A : list of integers\n",
    "    # @return a list of integers\n",
    "    def plusOne(self, A):\n",
    "        carry=1\n",
    "        n=len(A)\n",
    "        arr=A\n",
    "        arr.reverse()\n",
    "        for i in range(0,n+1):\n",
    "            if (carry==1):\n",
    "                if (i==n):\n",
    "                    arr.append(carry)\n",
    "                    carry=0\n",
    "                else:\n",
    "                    arr[i]+=1\n",
    "                    if(arr[i]>=10):\n",
    "                        arr[i]=0\n",
    "                        carry=1\n",
    "                    else:\n",
    "                        carry=0\n",
    "        arr.reverse()\n",
    "        count=0\n",
    "        for i in range(0,n):\n",
    "            if (arr[i]==0):\n",
    "                count=count+1\n",
    "            elif(arr[i]!=0):\n",
    "                break\n",
    "        \n",
    "        return arr[count:]\n",
    "        "
   ]
  },
  {
   "cell_type": "code",
   "execution_count": null,
   "metadata": {},
   "outputs": [],
   "source": []
  }
 ],
 "metadata": {
  "kernelspec": {
   "display_name": "Python 3",
   "language": "python",
   "name": "python3"
  },
  "language_info": {
   "codemirror_mode": {
    "name": "ipython",
    "version": 3
   },
   "file_extension": ".py",
   "mimetype": "text/x-python",
   "name": "python",
   "nbconvert_exporter": "python",
   "pygments_lexer": "ipython3",
   "version": "3.7.3"
  }
 },
 "nbformat": 4,
 "nbformat_minor": 2
}
