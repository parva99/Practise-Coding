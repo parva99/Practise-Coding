{
 "cells": [
  {
   "cell_type": "code",
   "execution_count": null,
   "metadata": {},
   "outputs": [],
   "source": [
    "#Question\n",
    "\n",
    "# Given an unsorted integer array A of size N. Find the first missing positive integer.\n",
    "\n",
    "# Note: Your algorithm should run in O(n) time and use constant space.\n",
    "\n",
    "def firstMissingPositive(self, A):\n",
    "    n=len(A)\n",
    "    s=set()\n",
    "    for i in range(0,n):\n",
    "        if (A[i]>0):\n",
    "            s.add(A[i])\n",
    "    if len(s)==0:\n",
    "        return 1\n",
    "    maxi=max(s)\n",
    "    for i in range(1,maxi+2):\n",
    "        if i not in s:\n",
    "            return i\n"
   ]
  },
  {
   "cell_type": "code",
   "execution_count": null,
   "metadata": {},
   "outputs": [],
   "source": []
  }
 ],
 "metadata": {
  "kernelspec": {
   "display_name": "Python 3",
   "language": "python",
   "name": "python3"
  },
  "language_info": {
   "codemirror_mode": {
    "name": "ipython",
    "version": 3
   },
   "file_extension": ".py",
   "mimetype": "text/x-python",
   "name": "python",
   "nbconvert_exporter": "python",
   "pygments_lexer": "ipython3",
   "version": "3.7.3"
  }
 },
 "nbformat": 4,
 "nbformat_minor": 2
}
