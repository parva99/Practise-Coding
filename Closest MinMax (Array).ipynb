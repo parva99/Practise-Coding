{
 "cells": [
  {
   "cell_type": "code",
   "execution_count": null,
   "metadata": {},
   "outputs": [],
   "source": [
    "#Question\n",
    "\n",
    "# Given an array A. Find the size of the smallest subarray such that it contains atleast one occurrence of the maximum value of the array\n",
    "\n",
    "# and atleast one occurrence of the minimum value of the array.\n",
    "\n",
    "   # @param A : list of integers\n",
    "    # @return an integer\n",
    "    def solve(self, A):\n",
    "        n=len(A)\n",
    "        maxi=max(A)\n",
    "        mini=min(A)\n",
    "        min_sub=sys.maxsize\n",
    "        pos1=-1\n",
    "        pos2=-1\n",
    "        \n",
    "        for i in range(0,n):\n",
    "            if(A[i]==mini):\n",
    "                pos1=i\n",
    "            if(A[i]==maxi):\n",
    "                pos2=i\n",
    "            if(pos1!=-1 and pos2!=-1):\n",
    "                min_sub=min(min_sub,(abs(pos2-pos1)+1))\n",
    "\n",
    "        return min_sub\n",
    "\n"
   ]
  },
  {
   "cell_type": "code",
   "execution_count": null,
   "metadata": {},
   "outputs": [],
   "source": []
  }
 ],
 "metadata": {
  "kernelspec": {
   "display_name": "Python 3",
   "language": "python",
   "name": "python3"
  },
  "language_info": {
   "codemirror_mode": {
    "name": "ipython",
    "version": 3
   },
   "file_extension": ".py",
   "mimetype": "text/x-python",
   "name": "python",
   "nbconvert_exporter": "python",
   "pygments_lexer": "ipython3",
   "version": "3.7.3"
  }
 },
 "nbformat": 4,
 "nbformat_minor": 2
}
