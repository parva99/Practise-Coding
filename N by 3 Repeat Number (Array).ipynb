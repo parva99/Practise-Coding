{
 "cells": [
  {
   "cell_type": "code",
   "execution_count": null,
   "metadata": {},
   "outputs": [],
   "source": [
    "#Question\n",
    "\n",
    "# You're given a read only array of n integers. Find out if any integer occurs more than n/3 times in the array in linear time and constant additional space.\n",
    "\n",
    "# If so, return the integer. If not, return -1.\n",
    "\n",
    "# If there are multiple solutions, return any one.\n",
    "\n",
    "    # @param A : tuple of integers\n",
    "    # @return an integer\n",
    "    def repeatedNumber(self, A):\n",
    "        \n",
    "        n=len(A)\n",
    "        con=n//3\n",
    "        d={}\n",
    "        for i in A:\n",
    "            if(i in d):\n",
    "                d[i]+=1\n",
    "            else:\n",
    "                d[i]=1\n",
    "        for i in d:\n",
    "            if(d[i]>con):\n",
    "                return i\n",
    "        return -1\n",
    "            \n",
    "        \n",
    "\n"
   ]
  },
  {
   "cell_type": "code",
   "execution_count": null,
   "metadata": {},
   "outputs": [],
   "source": []
  }
 ],
 "metadata": {
  "kernelspec": {
   "display_name": "Python 3",
   "language": "python",
   "name": "python3"
  },
  "language_info": {
   "codemirror_mode": {
    "name": "ipython",
    "version": 3
   },
   "file_extension": ".py",
   "mimetype": "text/x-python",
   "name": "python",
   "nbconvert_exporter": "python",
   "pygments_lexer": "ipython3",
   "version": "3.7.3"
  }
 },
 "nbformat": 4,
 "nbformat_minor": 2
}
