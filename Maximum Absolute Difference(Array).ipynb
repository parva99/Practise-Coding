{
 "cells": [
  {
   "cell_type": "code",
   "execution_count": null,
   "metadata": {},
   "outputs": [],
   "source": [
    "#Question\n",
    "#You are given an array of N integers, A1, A2, .... AN.\n",
    "\n",
    "#Return the maximum value of f(i, j) for all 1 ≤ i, j ≤ N. f(i, j) is defined as |A[i] - A[j]| + |i - j|, where |x| denotes absolute value of x.\n",
    "\n",
    "def maxArr(self, A):\n",
    "    final=-sys.maxsize-1 \n",
    "    min1=sys.maxsize \n",
    "    max1=-sys.maxsize-1\n",
    "    min2=sys.maxsize \n",
    "    max2=-sys.maxsize-1\n",
    "    for i in range(0,len(A)):\n",
    "        max1=max(max1,A[i]+i)\n",
    "        min1=min(min1,A[i]+i)\n",
    "        max2=max(max2,A[i]-i)\n",
    "        min2=min(min2,A[i]-i)\n",
    "    final=max(max1-min1,max2-min2)\n",
    "    return final"
   ]
  },
  {
   "cell_type": "code",
   "execution_count": null,
   "metadata": {},
   "outputs": [],
   "source": []
  }
 ],
 "metadata": {
  "kernelspec": {
   "display_name": "Python 3",
   "language": "python",
   "name": "python3"
  },
  "language_info": {
   "codemirror_mode": {
    "name": "ipython",
    "version": 3
   },
   "file_extension": ".py",
   "mimetype": "text/x-python",
   "name": "python",
   "nbconvert_exporter": "python",
   "pygments_lexer": "ipython3",
   "version": "3.7.3"
  }
 },
 "nbformat": 4,
 "nbformat_minor": 2
}
