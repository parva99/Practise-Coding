{
 "cells": [
  {
   "cell_type": "code",
   "execution_count": null,
   "metadata": {},
   "outputs": [],
   "source": [
    "#Question\n",
    "\n",
    "#Implement the next permutation, which rearranges numbers into the numerically next greater permutation of numbers for a given array A of size N.\n",
    "\n",
    "# If such arrangement is not possible, it must be rearranged as the lowest possible order i.e., sorted in an ascending order.\n",
    "\n",
    "def nextPermutation(self, A):\n",
    "        def rev(A,x,y):\n",
    "            while(y>x):\n",
    "                A[x],A[y]=A[y],A[x]\n",
    "                x+=1\n",
    "                y-=1\n",
    "            return A  \n",
    "        n=len(A)\n",
    "        i=0\n",
    "        for i in range(n-2,-1,-1):\n",
    "            if(A[i]<A[i+1]):\n",
    "                break\n",
    "        if(i==0):\n",
    "            A=rev(A,0,n-1)\n",
    "            return A\n",
    "        j=n-1\n",
    "        while(j>i):\n",
    "            if(A[j]>A[i]):\n",
    "                A[j],A[i]=A[i],A[j]\n",
    "                break\n",
    "            j-=1\n",
    "        A=rev(A,i+1,n-1)\n",
    "        return A\n",
    "        \n",
    "        \n",
    "\n"
   ]
  },
  {
   "cell_type": "code",
   "execution_count": null,
   "metadata": {},
   "outputs": [],
   "source": []
  }
 ],
 "metadata": {
  "kernelspec": {
   "display_name": "Python 3",
   "language": "python",
   "name": "python3"
  },
  "language_info": {
   "codemirror_mode": {
    "name": "ipython",
    "version": 3
   },
   "file_extension": ".py",
   "mimetype": "text/x-python",
   "name": "python",
   "nbconvert_exporter": "python",
   "pygments_lexer": "ipython3",
   "version": "3.7.3"
  }
 },
 "nbformat": 4,
 "nbformat_minor": 2
}
