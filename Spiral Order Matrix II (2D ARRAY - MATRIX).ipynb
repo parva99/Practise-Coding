{
 "cells": [
  {
   "cell_type": "code",
   "execution_count": null,
   "metadata": {},
   "outputs": [],
   "source": [
    "#Question\n",
    "# Given an integer A, generate a square matrix filled with elements from 1 to A2 in spiral order.\n",
    "\n",
    "\t# @param A : integer\n",
    "\t# @return a list of list of integers\n",
    "\tdef generateMatrix(self, A):\n",
    "\t    m=A\n",
    "\t    n=A\n",
    "\t    \n",
    "\t    l=0\n",
    "\t    k=0\n",
    "\t    c=1\n",
    "\t    arr=[0]*m\n",
    "\t    \n",
    "\t    for z in range(0,m):\n",
    "\t        arr[z]=[0]*n\n",
    "\t        \n",
    "\t    while(l<m and k<n):\n",
    "\t        for j in range(k,n):\n",
    "\t            arr[l][j]=c\n",
    "\t            c+=1\n",
    "\t        l=l+1\n",
    "\t        for i in range(l,m):\n",
    "\t            arr[i][j]=c\n",
    "\t            c+=1\n",
    "\t        n=n-1\n",
    "\t        for j in range(n-1,k-1,-1):\n",
    "\t            arr[i][j]=c\n",
    "\t            c+=1\n",
    "\t        m=m-1\n",
    "\t        for i in range(m-1,l-1,-1):\n",
    "\t            arr[i][j]=c\n",
    "\t            c+=1\n",
    "\t        k=k+1\n",
    "\t    return arr\n",
    "\t       \n",
    "\t            \n",
    "\n",
    "            \n"
   ]
  },
  {
   "cell_type": "code",
   "execution_count": null,
   "metadata": {},
   "outputs": [],
   "source": []
  }
 ],
 "metadata": {
  "kernelspec": {
   "display_name": "Python 3",
   "language": "python",
   "name": "python3"
  },
  "language_info": {
   "codemirror_mode": {
    "name": "ipython",
    "version": 3
   },
   "file_extension": ".py",
   "mimetype": "text/x-python",
   "name": "python",
   "nbconvert_exporter": "python",
   "pygments_lexer": "ipython3",
   "version": "3.7.3"
  }
 },
 "nbformat": 4,
 "nbformat_minor": 2
}
